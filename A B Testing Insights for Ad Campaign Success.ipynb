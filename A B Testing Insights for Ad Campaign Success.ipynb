{
 "cells": [
  {
   "cell_type": "markdown",
   "id": "60ab5358",
   "metadata": {},
   "source": [
    "## Load and Explore the Data"
   ]
  },
  {
   "cell_type": "code",
   "execution_count": 1,
   "id": "7521fce7",
   "metadata": {},
   "outputs": [],
   "source": [
    "import pandas as pd\n",
    "import numpy as np\n",
    "import matplotlib.pyplot as plt\n",
    "import seaborn as sns"
   ]
  },
  {
   "cell_type": "code",
   "execution_count": 5,
   "id": "e012fb57",
   "metadata": {},
   "outputs": [],
   "source": [
    "data = pd.read_csv('H:/Preperation/SQL Projects data/marketing_AB.csv')"
   ]
  },
  {
   "cell_type": "code",
   "execution_count": 6,
   "id": "cf091f74",
   "metadata": {},
   "outputs": [
    {
     "data": {
      "text/html": [
       "<div>\n",
       "<style scoped>\n",
       "    .dataframe tbody tr th:only-of-type {\n",
       "        vertical-align: middle;\n",
       "    }\n",
       "\n",
       "    .dataframe tbody tr th {\n",
       "        vertical-align: top;\n",
       "    }\n",
       "\n",
       "    .dataframe thead th {\n",
       "        text-align: right;\n",
       "    }\n",
       "</style>\n",
       "<table border=\"1\" class=\"dataframe\">\n",
       "  <thead>\n",
       "    <tr style=\"text-align: right;\">\n",
       "      <th></th>\n",
       "      <th>Unnamed: 0</th>\n",
       "      <th>user id</th>\n",
       "      <th>test group</th>\n",
       "      <th>converted</th>\n",
       "      <th>total ads</th>\n",
       "      <th>most ads day</th>\n",
       "      <th>most ads hour</th>\n",
       "    </tr>\n",
       "  </thead>\n",
       "  <tbody>\n",
       "    <tr>\n",
       "      <th>0</th>\n",
       "      <td>0</td>\n",
       "      <td>1069124</td>\n",
       "      <td>ad</td>\n",
       "      <td>False</td>\n",
       "      <td>130</td>\n",
       "      <td>Monday</td>\n",
       "      <td>20</td>\n",
       "    </tr>\n",
       "    <tr>\n",
       "      <th>1</th>\n",
       "      <td>1</td>\n",
       "      <td>1119715</td>\n",
       "      <td>ad</td>\n",
       "      <td>False</td>\n",
       "      <td>93</td>\n",
       "      <td>Tuesday</td>\n",
       "      <td>22</td>\n",
       "    </tr>\n",
       "    <tr>\n",
       "      <th>2</th>\n",
       "      <td>2</td>\n",
       "      <td>1144181</td>\n",
       "      <td>ad</td>\n",
       "      <td>False</td>\n",
       "      <td>21</td>\n",
       "      <td>Tuesday</td>\n",
       "      <td>18</td>\n",
       "    </tr>\n",
       "    <tr>\n",
       "      <th>3</th>\n",
       "      <td>3</td>\n",
       "      <td>1435133</td>\n",
       "      <td>ad</td>\n",
       "      <td>False</td>\n",
       "      <td>355</td>\n",
       "      <td>Tuesday</td>\n",
       "      <td>10</td>\n",
       "    </tr>\n",
       "    <tr>\n",
       "      <th>4</th>\n",
       "      <td>4</td>\n",
       "      <td>1015700</td>\n",
       "      <td>ad</td>\n",
       "      <td>False</td>\n",
       "      <td>276</td>\n",
       "      <td>Friday</td>\n",
       "      <td>14</td>\n",
       "    </tr>\n",
       "  </tbody>\n",
       "</table>\n",
       "</div>"
      ],
      "text/plain": [
       "   Unnamed: 0  user id test group  converted  total ads most ads day  \\\n",
       "0           0  1069124         ad      False        130       Monday   \n",
       "1           1  1119715         ad      False         93      Tuesday   \n",
       "2           2  1144181         ad      False         21      Tuesday   \n",
       "3           3  1435133         ad      False        355      Tuesday   \n",
       "4           4  1015700         ad      False        276       Friday   \n",
       "\n",
       "   most ads hour  \n",
       "0             20  \n",
       "1             22  \n",
       "2             18  \n",
       "3             10  \n",
       "4             14  "
      ]
     },
     "execution_count": 6,
     "metadata": {},
     "output_type": "execute_result"
    }
   ],
   "source": [
    "data.head()"
   ]
  },
  {
   "cell_type": "code",
   "execution_count": 7,
   "id": "cf834c4e",
   "metadata": {},
   "outputs": [
    {
     "name": "stdout",
     "output_type": "stream",
     "text": [
      "<class 'pandas.core.frame.DataFrame'>\n",
      "RangeIndex: 588101 entries, 0 to 588100\n",
      "Data columns (total 7 columns):\n",
      " #   Column         Non-Null Count   Dtype \n",
      "---  ------         --------------   ----- \n",
      " 0   Unnamed: 0     588101 non-null  int64 \n",
      " 1   user id        588101 non-null  int64 \n",
      " 2   test group     588101 non-null  object\n",
      " 3   converted      588101 non-null  bool  \n",
      " 4   total ads      588101 non-null  int64 \n",
      " 5   most ads day   588101 non-null  object\n",
      " 6   most ads hour  588101 non-null  int64 \n",
      "dtypes: bool(1), int64(4), object(2)\n",
      "memory usage: 27.5+ MB\n"
     ]
    }
   ],
   "source": [
    "data.info(0)"
   ]
  },
  {
   "cell_type": "code",
   "execution_count": 9,
   "id": "774c8610",
   "metadata": {},
   "outputs": [],
   "source": [
    "#rename column names to standard\n",
    "data.drop(['Unnamed: 0','user id'], axis=1,inplace=True)\n",
    "data.columns = data.columns.str.replace(\" \", \"_\", regex=True)"
   ]
  },
  {
   "cell_type": "code",
   "execution_count": 11,
   "id": "e71f15f8",
   "metadata": {},
   "outputs": [
    {
     "name": "stdout",
     "output_type": "stream",
     "text": [
      "Unique categorical values:\n",
      "test_group :  ['ad' 'psa']\n",
      "converted :  [False  True]\n",
      "most_ads_day :  ['Monday' 'Tuesday' 'Friday' 'Saturday' 'Wednesday' 'Sunday' 'Thursday']\n",
      "most_ads_hour :  [20 22 18 10 14 13 19 11 12 16 21  3 23  4  8  0  2 15  1  6 17  7  9  5]\n"
     ]
    }
   ],
   "source": [
    "# show unique values for categorical columns\n",
    "print(\"Unique categorical values:\")\n",
    "columns = data.columns.drop('total_ads')\n",
    "for column in columns:\n",
    "    print( column, \": \", data[column].unique())"
   ]
  },
  {
   "cell_type": "code",
   "execution_count": 12,
   "id": "0ef46445",
   "metadata": {},
   "outputs": [
    {
     "data": {
      "text/html": [
       "<div>\n",
       "<style scoped>\n",
       "    .dataframe tbody tr th:only-of-type {\n",
       "        vertical-align: middle;\n",
       "    }\n",
       "\n",
       "    .dataframe tbody tr th {\n",
       "        vertical-align: top;\n",
       "    }\n",
       "\n",
       "    .dataframe thead th {\n",
       "        text-align: right;\n",
       "    }\n",
       "</style>\n",
       "<table border=\"1\" class=\"dataframe\">\n",
       "  <thead>\n",
       "    <tr style=\"text-align: right;\">\n",
       "      <th></th>\n",
       "      <th>total_ads</th>\n",
       "      <th>most_ads_hour</th>\n",
       "    </tr>\n",
       "  </thead>\n",
       "  <tbody>\n",
       "    <tr>\n",
       "      <th>count</th>\n",
       "      <td>588101.000000</td>\n",
       "      <td>588101.000000</td>\n",
       "    </tr>\n",
       "    <tr>\n",
       "      <th>mean</th>\n",
       "      <td>24.820876</td>\n",
       "      <td>14.469061</td>\n",
       "    </tr>\n",
       "    <tr>\n",
       "      <th>std</th>\n",
       "      <td>43.715181</td>\n",
       "      <td>4.834634</td>\n",
       "    </tr>\n",
       "    <tr>\n",
       "      <th>min</th>\n",
       "      <td>1.000000</td>\n",
       "      <td>0.000000</td>\n",
       "    </tr>\n",
       "    <tr>\n",
       "      <th>25%</th>\n",
       "      <td>4.000000</td>\n",
       "      <td>11.000000</td>\n",
       "    </tr>\n",
       "    <tr>\n",
       "      <th>50%</th>\n",
       "      <td>13.000000</td>\n",
       "      <td>14.000000</td>\n",
       "    </tr>\n",
       "    <tr>\n",
       "      <th>75%</th>\n",
       "      <td>27.000000</td>\n",
       "      <td>18.000000</td>\n",
       "    </tr>\n",
       "    <tr>\n",
       "      <th>max</th>\n",
       "      <td>2065.000000</td>\n",
       "      <td>23.000000</td>\n",
       "    </tr>\n",
       "  </tbody>\n",
       "</table>\n",
       "</div>"
      ],
      "text/plain": [
       "           total_ads  most_ads_hour\n",
       "count  588101.000000  588101.000000\n",
       "mean       24.820876      14.469061\n",
       "std        43.715181       4.834634\n",
       "min         1.000000       0.000000\n",
       "25%         4.000000      11.000000\n",
       "50%        13.000000      14.000000\n",
       "75%        27.000000      18.000000\n",
       "max      2065.000000      23.000000"
      ]
     },
     "execution_count": 12,
     "metadata": {},
     "output_type": "execute_result"
    }
   ],
   "source": [
    "data.describe()"
   ]
  },
  {
   "cell_type": "code",
   "execution_count": 13,
   "id": "dbbb716f",
   "metadata": {},
   "outputs": [
    {
     "name": "stdout",
     "output_type": "stream",
     "text": [
      "test_group       0\n",
      "converted        0\n",
      "total_ads        0\n",
      "most_ads_day     0\n",
      "most_ads_hour    0\n",
      "dtype: int64\n"
     ]
    }
   ],
   "source": [
    "# Check for missing values\n",
    "print(data.isnull().sum())"
   ]
  },
  {
   "cell_type": "code",
   "execution_count": 14,
   "id": "b81f3c26",
   "metadata": {},
   "outputs": [],
   "source": [
    "# Convert 'converted' column to numeric (1 for True, 0 for False)\n",
    "data['converted'] = data['converted'].astype(int)"
   ]
  },
  {
   "cell_type": "code",
   "execution_count": 17,
   "id": "8128c51f",
   "metadata": {},
   "outputs": [],
   "source": [
    "# Separate data for the experimental group (ad) and control group (psa)\n",
    "ad_group = data[data['test_group'] == 'ad']\n",
    "psa_group = data[data['test_group'] == 'psa']"
   ]
  },
  {
   "cell_type": "code",
   "execution_count": 18,
   "id": "70059d59",
   "metadata": {},
   "outputs": [],
   "source": [
    "# Calculate conversion rates\n",
    "ad_conversion_rate = ad_group['converted'].mean() * 100\n",
    "psa_conversion_rate = psa_group['converted'].mean() * 100"
   ]
  },
  {
   "cell_type": "code",
   "execution_count": 19,
   "id": "b57db0bd",
   "metadata": {},
   "outputs": [],
   "source": [
    "# Calculate attributable impact\n",
    "attributable_impact = ad_conversion_rate - psa_conversion_rate"
   ]
  },
  {
   "cell_type": "code",
   "execution_count": 21,
   "id": "fe6ecca8",
   "metadata": {},
   "outputs": [],
   "source": [
    "# Calculate average ads seen in the experimental group\n",
    "avg_ads_seen = ad_group['total_ads'].mean()"
   ]
  },
  {
   "cell_type": "code",
   "execution_count": 22,
   "id": "7ad31172",
   "metadata": {},
   "outputs": [
    {
     "name": "stdout",
     "output_type": "stream",
     "text": [
      "Ad Group Conversion Rate: 2.55%\n",
      "PSA Group Conversion Rate: 1.79%\n",
      "Attributable Impact: 0.77%\n",
      "Average Ads Seen (Experimental Group): 24.82\n"
     ]
    }
   ],
   "source": [
    "# Print results\n",
    "print(f\"Ad Group Conversion Rate: {ad_conversion_rate:.2f}%\")\n",
    "print(f\"PSA Group Conversion Rate: {psa_conversion_rate:.2f}%\")\n",
    "print(f\"Attributable Impact: {attributable_impact:.2f}%\")\n",
    "print(f\"Average Ads Seen (Experimental Group): {avg_ads_seen:.2f}\")"
   ]
  },
  {
   "cell_type": "markdown",
   "id": "458ce02a",
   "metadata": {},
   "source": [
    "## Compare Group Performance"
   ]
  },
  {
   "cell_type": "markdown",
   "id": "53ba54a9",
   "metadata": {},
   "source": [
    "### Perform a Two-Proportion Z-Test"
   ]
  },
  {
   "cell_type": "code",
   "execution_count": 23,
   "id": "82b8cb8e",
   "metadata": {},
   "outputs": [
    {
     "name": "stdout",
     "output_type": "stream",
     "text": [
      "Z-statistic: 7.3701\n",
      "P-value: 0.0000\n",
      "Reject the null hypothesis: There is a significant difference between the groups.\n"
     ]
    }
   ],
   "source": [
    "from statsmodels.stats.proportion import proportions_ztest\n",
    "\n",
    "# Count of conversions and sample sizes for each group\n",
    "ad_conversions = ad_group['converted'].sum()\n",
    "psa_conversions = psa_group['converted'].sum()\n",
    "\n",
    "ad_size = len(ad_group)\n",
    "psa_size = len(psa_group)\n",
    "\n",
    "# Perform the z-test\n",
    "counts = [ad_conversions, psa_conversions]\n",
    "nobs = [ad_size, psa_size]\n",
    "z_stat, p_value = proportions_ztest(counts, nobs)\n",
    "\n",
    "print(f\"Z-statistic: {z_stat:.4f}\")\n",
    "print(f\"P-value: {p_value:.4f}\")\n",
    "\n",
    "# Interpret the results\n",
    "alpha = 0.05  # Significance level\n",
    "if p_value < alpha:\n",
    "    print(\"Reject the null hypothesis: There is a significant difference between the groups.\")\n",
    "else:\n",
    "    print(\"Fail to reject the null hypothesis: There is no significant difference between the groups.\")"
   ]
  },
  {
   "cell_type": "markdown",
   "id": "5b99262b",
   "metadata": {},
   "source": [
    "### Analyze Ad Exposure"
   ]
  },
  {
   "cell_type": "code",
   "execution_count": 32,
   "id": "512fd26c",
   "metadata": {},
   "outputs": [
    {
     "data": {
      "text/plain": [
       "<Figure size 720x432 with 0 Axes>"
      ]
     },
     "metadata": {},
     "output_type": "display_data"
    },
    {
     "data": {
      "image/png": "[encoded data removed]",
      "text/plain": [
       "<Figure size 432x288 with 1 Axes>"
      ]
     },
     "metadata": {
      "needs_background": "light"
     },
     "output_type": "display_data"
    }
   ],
   "source": [
    "conversion_rate_by_day = data.groupby(['most_ads_day', 'test_group'])['converted'].mean().unstack()\n",
    "\n",
    "plt.figure(figsize=(10, 6))\n",
    "conversion_rate_by_day.plot(kind='bar', stacked=False, color=['#FF8C00', '#8A2BE2'], width=0.7)\n",
    "plt.title('Conversion Rates by Most Ads Day and Test Group', fontsize=16)\n",
    "plt.xlabel('Day of the Week', fontsize=14)\n",
    "plt.ylabel('Conversion Rate', fontsize=14)\n",
    "plt.xticks(rotation=45)\n",
    "plt.legend(title='Test Group', labels=['Ad', 'PSA'])\n",
    "plt.show()"
   ]
  },
  {
   "cell_type": "markdown",
   "id": "4db49972",
   "metadata": {},
   "source": [
    "### Analyze Most Active Day and Hour\n",
    "\n"
   ]
  },
  {
   "cell_type": "code",
   "execution_count": 29,
   "id": "2bf1f996",
   "metadata": {},
   "outputs": [
    {
     "data": {
      "image/png": "[encoded data removed]",
      "text/plain": [
       "<Figure size 720x432 with 1 Axes>"
      ]
     },
     "metadata": {
      "needs_background": "light"
     },
     "output_type": "display_data"
    },
    {
     "data": {
      "image/png": "[encoded data removed]",
      "text/plain": [
       "<Figure size 720x432 with 1 Axes>"
      ]
     },
     "metadata": {
      "needs_background": "light"
     },
     "output_type": "display_data"
    }
   ],
   "source": [
    "# Group by 'most ads day' and calculate conversion rates\n",
    "day_conversion = ad_group.groupby('most_ads_day')['converted'].mean().reset_index()\n",
    "\n",
    "# Group by 'most ads hour' and calculate conversion rates\n",
    "hour_conversion = ad_group.groupby('most_ads_hour')['converted'].mean().reset_index()\n",
    "\n",
    "# Plot conversion rates by day\n",
    "plt.figure(figsize=(10, 6))\n",
    "sns.barplot(x='most_ads_day', y='converted', data=day_conversion)\n",
    "plt.title('Conversion Rate by Day')\n",
    "plt.xlabel('Day')\n",
    "plt.ylabel('Conversion Rate')\n",
    "plt.show()\n",
    "\n",
    "# Plot conversion rates by hour\n",
    "plt.figure(figsize=(10, 6))\n",
    "sns.barplot(x='most_ads_hour', y='converted', data=hour_conversion)\n",
    "plt.title('Conversion Rate by Hour')\n",
    "plt.xlabel('Hour')\n",
    "plt.ylabel('Conversion Rate')\n",
    "plt.show()"
   ]
  },
  {
   "cell_type": "markdown",
   "id": "f3522564",
   "metadata": {},
   "source": [
    "### Chi-Square Test for Independence"
   ]
  },
  {
   "cell_type": "markdown",
   "id": "35f7db87",
   "metadata": {},
   "source": [
    "Tests whether the Ad campaign influenced the likelihood of conversion"
   ]
  },
  {
   "cell_type": "code",
   "execution_count": 34,
   "id": "8cbccc4a",
   "metadata": {},
   "outputs": [
    {
     "name": "stdout",
     "output_type": "stream",
     "text": [
      "Chi-Square Statistic: 54.0058\n",
      "P-value: 0.0000\n",
      "Reject the null hypothesis: There is a significant association between the groups.\n"
     ]
    }
   ],
   "source": [
    "from scipy.stats import chi2_contingency\n",
    "\n",
    "# Create a contingency table\n",
    "contingency_table = pd.crosstab(data['test_group'], data['converted'])\n",
    "\n",
    "# Perform the Chi-Square Test\n",
    "chi2, p_value, dof, expected = chi2_contingency(contingency_table)\n",
    "\n",
    "print(f\"Chi-Square Statistic: {chi2:.4f}\")\n",
    "print(f\"P-value: {p_value:.4f}\")\n",
    "\n",
    "# Interpret the results\n",
    "alpha = 0.05\n",
    "if p_value < alpha:\n",
    "    print(\"Reject the null hypothesis: There is a significant association between the groups.\")\n",
    "else:\n",
    "    print(\"Fail to reject the null hypothesis: There is no significant association between the groups.\")"
   ]
  },
  {
   "cell_type": "markdown",
   "id": "9adecdb4",
   "metadata": {},
   "source": [
    "- The Chi-Square test results suggest that there is a significant association between the test group (Ad vs. PSA) and the converted outcome.\n",
    "\n",
    "- The extremely low p-value (0.0000) indicates that the likelihood of this association occurring by random chance is virtually zero."
   ]
  },
  {
   "cell_type": "markdown",
   "id": "9293f70f",
   "metadata": {},
   "source": [
    "### Independent Samples T-Test"
   ]
  },
  {
   "cell_type": "markdown",
   "id": "cc381ce6",
   "metadata": {},
   "source": [
    "Compare the average number of ads seen or other continuous metrics between the two groups.\n",
    "Confirms whether the difference in means (e.g., conversion rates) is statistically significant."
   ]
  },
  {
   "cell_type": "code",
   "execution_count": 35,
   "id": "b5ea08c3",
   "metadata": {},
   "outputs": [
    {
     "name": "stdout",
     "output_type": "stream",
     "text": [
      "T-statistic: 0.2139\n",
      "P-value: 0.8306\n",
      "Fail to reject the null hypothesis: There is no significant difference in the means.\n"
     ]
    }
   ],
   "source": [
    "from scipy.stats import ttest_ind\n",
    "\n",
    "# Compare the average number of ads seen between the two groups\n",
    "t_stat, p_value = ttest_ind(ad_group['total_ads'], psa_group['total_ads'])\n",
    "\n",
    "print(f\"T-statistic: {t_stat:.4f}\")\n",
    "print(f\"P-value: {p_value:.4f}\")\n",
    "\n",
    "# Interpret the results\n",
    "alpha = 0.05\n",
    "if p_value < alpha:\n",
    "    print(\"Reject the null hypothesis: There is a significant difference in the means.\")\n",
    "else:\n",
    "    print(\"Fail to reject the null hypothesis: There is no significant difference in the means.\")"
   ]
  },
  {
   "cell_type": "markdown",
   "id": "a409cb54",
   "metadata": {},
   "source": [
    "- The t-test results suggest that there is no statistically significant difference in the average conversion rates between the Ad and PSA groups.\n",
    "\n",
    "- The high p-value (0.8306) indicates that the observed difference in means could easily occur by random chance."
   ]
  },
  {
   "cell_type": "markdown",
   "id": "7b8825c3",
   "metadata": {},
   "source": [
    "### Bootstrapping"
   ]
  },
  {
   "cell_type": "markdown",
   "id": "5683422b",
   "metadata": {},
   "source": [
    "Quantifies the impact of the Ad campaign and provides a confidence interval."
   ]
  },
  {
   "cell_type": "code",
   "execution_count": 38,
   "id": "1027cf2e",
   "metadata": {},
   "outputs": [
    {
     "name": "stdout",
     "output_type": "stream",
     "text": [
      "95% Confidence Interval for Difference in Conversion Rates: (0.0059, 0.0093)\n"
     ]
    }
   ],
   "source": [
    "# Function to calculate the difference in conversion rates\n",
    "def bootstrap_diff(data, n_bootstrap=1000):\n",
    "    diffs = []\n",
    "    for _ in range(n_bootstrap):\n",
    "        sample = data.sample(frac=1, replace=True)  # Resample with replacement\n",
    "        ad_rate = sample[sample['test_group'] == 'ad']['converted'].mean()\n",
    "        psa_rate = sample[sample['test_group'] == 'psa']['converted'].mean()\n",
    "        diffs.append(ad_rate - psa_rate)\n",
    "    return diffs\n",
    "\n",
    "# Perform bootstrapping\n",
    "bootstrap_diffs = bootstrap_diff(data)\n",
    "\n",
    "# Calculate the 95% confidence interval\n",
    "ci_lower = np.percentile(bootstrap_diffs, 2.5)\n",
    "ci_upper = np.percentile(bootstrap_diffs, 97.5)\n",
    "\n",
    "print(f\"95% Confidence Interval for Difference in Conversion Rates: ({ci_lower:.4f}, {ci_upper:.4f})\")\n"
   ]
  },
  {
   "cell_type": "markdown",
   "id": "c96daf63",
   "metadata": {},
   "source": [
    "- The bootstrapping results suggest that the Ad campaign led to a 0.59% to 0.93% increase in conversion rates compared to the PSA group.\n",
    "\n",
    "- Since the confidence interval does not include zero, this indicates that the Ad campaign had a positive and statistically significant impact on conversions."
   ]
  },
  {
   "cell_type": "code",
   "execution_count": null,
   "id": "87d790d5",
   "metadata": {},
   "outputs": [],
   "source": []
  }
 ],
 "metadata": {
  "kernelspec": {
   "display_name": "Python 3 (ipykernel)",
   "language": "python",
   "name": "python3"
  },
  "language_info": {
   "codemirror_mode": {
    "name": "ipython",
    "version": 3
   },
   "file_extension": ".py",
   "mimetype": "text/x-python",
   "name": "python",
   "nbconvert_exporter": "python",
   "pygments_lexer": "ipython3",
   "version": "3.9.7"
  }
 },
 "nbformat": 4,
 "nbformat_minor": 5
}
